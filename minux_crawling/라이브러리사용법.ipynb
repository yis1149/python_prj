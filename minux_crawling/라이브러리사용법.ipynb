{
 "cells": [
  {
   "cell_type": "markdown",
   "id": "8816a2d3",
   "metadata": {},
   "source": [
    "[크롤링] 파이썬으로 간단하게 크롤링하기2. (Beautifulsoup4, request라이브러리 사용법)"
   ]
  },
  {
   "cell_type": "code",
   "execution_count": 1,
   "id": "54d03b39",
   "metadata": {},
   "outputs": [
    {
     "name": "stdout",
     "output_type": "stream",
     "text": [
      "Requirement already satisfied: requests in c:\\users\\yis11\\appdata\\local\\programs\\python\\python313\\lib\\site-packages (2.32.3)\n",
      "Requirement already satisfied: charset-normalizer<4,>=2 in c:\\users\\yis11\\appdata\\local\\programs\\python\\python313\\lib\\site-packages (from requests) (3.4.1)\n",
      "Requirement already satisfied: idna<4,>=2.5 in c:\\users\\yis11\\appdata\\local\\programs\\python\\python313\\lib\\site-packages (from requests) (3.10)\n",
      "Requirement already satisfied: urllib3<3,>=1.21.1 in c:\\users\\yis11\\appdata\\local\\programs\\python\\python313\\lib\\site-packages (from requests) (2.4.0)\n",
      "Requirement already satisfied: certifi>=2017.4.17 in c:\\users\\yis11\\appdata\\local\\programs\\python\\python313\\lib\\site-packages (from requests) (2025.1.31)\n",
      "Note: you may need to restart the kernel to use updated packages.\n"
     ]
    }
   ],
   "source": [
    "pip install requests"
   ]
  },
  {
   "cell_type": "code",
   "execution_count": 2,
   "id": "503cbbb6",
   "metadata": {},
   "outputs": [
    {
     "name": "stdout",
     "output_type": "stream",
     "text": [
      "Requirement already satisfied: bs4 in c:\\users\\yis11\\appdata\\local\\programs\\python\\python313\\lib\\site-packages (0.0.2)\n",
      "Requirement already satisfied: beautifulsoup4 in c:\\users\\yis11\\appdata\\local\\programs\\python\\python313\\lib\\site-packages (from bs4) (4.13.4)\n",
      "Requirement already satisfied: soupsieve>1.2 in c:\\users\\yis11\\appdata\\local\\programs\\python\\python313\\lib\\site-packages (from beautifulsoup4->bs4) (2.6)\n",
      "Requirement already satisfied: typing-extensions>=4.0.0 in c:\\users\\yis11\\appdata\\local\\programs\\python\\python313\\lib\\site-packages (from beautifulsoup4->bs4) (4.13.2)\n",
      "Note: you may need to restart the kernel to use updated packages.\n"
     ]
    }
   ],
   "source": [
    "pip install bs4"
   ]
  },
  {
   "cell_type": "code",
   "execution_count": 3,
   "id": "9b19f3a3",
   "metadata": {},
   "outputs": [
    {
     "data": {
      "text/plain": [
       "200"
      ]
     },
     "execution_count": 3,
     "metadata": {},
     "output_type": "execute_result"
    }
   ],
   "source": [
    "import requests\n",
    "\n",
    "response = requests.get(\"https://startcoding.pythonanywhere.com/basic\")\n",
    "response.status_code"
   ]
  },
  {
   "cell_type": "code",
   "execution_count": null,
   "id": "73ac19ab",
   "metadata": {},
   "outputs": [],
   "source": [
    "response.text"
   ]
  },
  {
   "cell_type": "code",
   "execution_count": null,
   "id": "aa8fb737",
   "metadata": {},
   "outputs": [
    {
     "data": {
      "text/plain": [
       "'스타트코딩'"
      ]
     },
     "execution_count": 7,
     "metadata": {},
     "output_type": "execute_result"
    }
   ],
   "source": [
    "import requests\n",
    "from bs4 import BeautifulSoup\n",
    "response = requests.get(\"https://startcoding.pythonanywhere.com/basic\")\n",
    "html = response.text\n",
    "soup = BeautifulSoup(html, \"html.parser\")\n",
    "soup.select_one(\".brand-name\")"
   ]
  },
  {
   "cell_type": "code",
   "execution_count": 8,
   "id": "a9d3329c",
   "metadata": {},
   "outputs": [
    {
     "data": {
      "text/plain": [
       "'스타트코딩'"
      ]
     },
     "execution_count": 8,
     "metadata": {},
     "output_type": "execute_result"
    }
   ],
   "source": [
    "soup.select_one(\".brand-name\").text"
   ]
  },
  {
   "cell_type": "code",
   "execution_count": 9,
   "id": "5f7b7c50",
   "metadata": {},
   "outputs": [
    {
     "data": {
      "text/plain": [
       "{'class': ['brand-name'],\n",
       " 'href': 'https://www.youtube.com/channel/UCHwhZ7HPBhUh2IscPSL0pHA',\n",
       " 'target': '_blank'}"
      ]
     },
     "execution_count": 9,
     "metadata": {},
     "output_type": "execute_result"
    }
   ],
   "source": [
    "soup.select_one(\".brand-name\").attrs"
   ]
  },
  {
   "cell_type": "code",
   "execution_count": 10,
   "id": "f8f338bf",
   "metadata": {},
   "outputs": [
    {
     "data": {
      "text/plain": [
       "'https://www.youtube.com/channel/UCHwhZ7HPBhUh2IscPSL0pHA'"
      ]
     },
     "execution_count": 10,
     "metadata": {},
     "output_type": "execute_result"
    }
   ],
   "source": [
    "soup.select_one(\".brand-name\").attrs['href']"
   ]
  },
  {
   "cell_type": "code",
   "execution_count": 11,
   "id": "bf7bc3bf",
   "metadata": {},
   "outputs": [
    {
     "data": {
      "text/plain": [
       "['brand-name']"
      ]
     },
     "execution_count": 11,
     "metadata": {},
     "output_type": "execute_result"
    }
   ],
   "source": [
    "soup.select_one(\".brand-name\").attrs['class']"
   ]
  },
  {
   "cell_type": "markdown",
   "id": "69c4d573",
   "metadata": {},
   "source": [
    "[크롤링] 파이썬으로 간단하게 크롤링하기3. (한개의 상품 크롤링)"
   ]
  },
  {
   "cell_type": "code",
   "execution_count": 21,
   "id": "1217d391",
   "metadata": {},
   "outputs": [
    {
     "name": "stdout",
     "output_type": "stream",
     "text": [
      "노트북 에이서 스위프트 GO 16 OLED, 스틸 그레이, 코어i7, 512GB, 16GB, WIN11 Home, SFG16-71-77FT #product1_detail.html 1419000\n"
     ]
    }
   ],
   "source": [
    "import requests\n",
    "from bs4 import BeautifulSoup\n",
    "response = requests.get(\"https://startcoding.pythonanywhere.com/basic\")\n",
    "html = response.text\n",
    "soup = BeautifulSoup(html, \"html.parser\")\n",
    "category = soup.select_one(\".product-category\").text\n",
    "name = soup.select_one(\".product-name\").text\n",
    "link = soup.select_one(\".product-name > a\").attrs['href']\n",
    "price = soup.select_one(\".product-price\").text.strip().replace(\",\",'').replace('원','')\n",
    "print(category, name, link, price)"
   ]
  },
  {
   "cell_type": "markdown",
   "id": "245370b2",
   "metadata": {},
   "source": [
    "[크롤링] 파이썬으로 간단하게 크롤링하기4. (여러개 상품 크롤링 하는 법)\n",
    "TIP\n",
    "포레스트이론 : 숲에서 원하는 나무를 선택하고 열매를 따는 과정과 매우 비슷\n",
    "숲       :페이지 전체 HTML\n",
    "나무   :원하는 정보를 모두 담는 태그\n",
    "열매   :원하는 정보 \n",
    "\n",
    "<나무태그 찾는법>\n",
    "1. 태그를 하나 찾는다.\n",
    "2. 상위태그(부모태그)를 찾아 올라간다\n",
    "3. 원하는 정보를 모두 담고 있는지 확인한다. \n",
    "\n",
    "<열매 추출하는 방법>\n",
    "1.숲에서 셀렉트로 나무들을 선택해줌.\n",
    "ㄴ select() : 선택자에 매칭되는 태그 전체를 리스트로 반환\n",
    "2.나무들을 하나씩 돌아가며 열매 추출\n",
    "ㄴ for item in items: 반복문으로 나무에서 하나씩 열매 추출 \n",
    "\n",
    "<여러 데이터 추출하는 방법>\n",
    "1. 첫번째로 숲에서 원하는 정보를 모두 담고 잇는 나무를 찾는다.\n",
    "2. 나무태그는 여러개가 될 수 잇다.\n",
    "3. 나무태그에서 열매를 추출"
   ]
  },
  {
   "cell_type": "code",
   "execution_count": 26,
   "id": "7cadc8ed",
   "metadata": {},
   "outputs": [
    {
     "name": "stdout",
     "output_type": "stream",
     "text": [
      "노트북 에이서 스위프트 GO 16 OLED, 스틸 그레이, 코어i7, 512GB, 16GB, WIN11 Home, SFG16-71-77FT #product1_detail.html 1419000\n",
      "노트북 삼성전자 노트북 플러스2 15.6, 퓨어 화이트, NT550XDA-K24AT, 펜티엄, 256GB, 8GB, WIN11 Pro #product2_detail.html 549000\n",
      "노트북 레노버 아이디어패드 슬림 1 15AMN7 15.6, 256GB, Free DOS, 82VG002EKR, 라이젠3, Cloud Grey (82VG), 8GB #product3_detail.html 529000\n",
      "노트북 레노버 V15 G4 AMN 15.6, Arctic Grey, 라이젠3, 256GB, 8GB, WIN11 Home, 82YU0009KR #product4_detail.html 624000\n",
      "노트북 LG 울트라PC 엣지 16, 차콜 그레이, 라이젠5, 256GB, 16GB, WIN11 Home, 16U70R-GA56K #product5_detail.html 1135000\n",
      "노트북 베이직스 베이직북 14 3세대, BB1422SS, 256GB, White, WIN11 Pro, 셀러론, 8GB #product6_detail.html 398000\n",
      "노트북 레노버 아이디어패드 슬림 5i 14IRL 14, Cloud Grey, 코어i5, 512GB, 16GB, Free DOS, 82XD002XKR #product7_detail.html 899000\n",
      "노트북 레노버 아이디어패드 슬림 5 16IRL 16, Cloud Grey, 512GB, 16GB, Free DOS, 82XF001RKR #product8_detail.html 929000\n",
      "노트북 에이서 스위프트 GO 16 OLED, 스틸 그레이, 코어i5, 512GB, 16GB, Free DOS, SFG16-71-51BY #product9_detail.html 1008000\n",
      "노트북 삼성전자 갤럭시북 2 15.6, 500GB, 실버, NT550XED-K78AS, 코어i7, 16GB, WIN11 Home #product10_detail.html 1149000\n"
     ]
    }
   ],
   "source": [
    "import requests\n",
    "from bs4 import BeautifulSoup\n",
    "response = requests.get(\"https://startcoding.pythonanywhere.com/basic\")\n",
    "html = response.text\n",
    "soup = BeautifulSoup(html, \"html.parser\")\n",
    "items = soup.select(\".product\")\n",
    "for item in items:\n",
    "    category = item.select_one(\".product-category\").text\n",
    "    name = item.select_one(\".product-name\").text\n",
    "    link = item.select_one(\".product-name > a\").attrs['href']\n",
    "    #price = item.select_one(\".product-price\").text.strip().replace(\",\",'').replace('원','')\n",
    "    price = item.select_one(\".product-price\").text.split('원')[0].replace(\",\",'')\n",
    "\n",
    "    print(category, name, link, price) "
   ]
  },
  {
   "cell_type": "markdown",
   "id": "6ad6699c",
   "metadata": {},
   "source": [
    "[크롤링] 파이썬으로 간단하게 크롤링하기5. (여러개 페이지 크롤링 , URL 조작자)\n",
    "URL에 있는 page 파라미터에 1~5-1 즉 1~4페이지 까지 직접 파라미터를 반복문으로 돌리며 넣어서 가져온다"
   ]
  },
  {
   "cell_type": "code",
   "execution_count": 31,
   "id": "0cf517d4",
   "metadata": {},
   "outputs": [
    {
     "name": "stdout",
     "output_type": "stream",
     "text": [
      "노트북 에이서 스위프트 GO 16 OLED, 스틸 그레이, 코어i7, 512GB, 16GB, WIN11 Home, SFG16-71-77FT #product1_detail.html 1419000\n",
      "노트북 삼성전자 노트북 플러스2 15.6, 퓨어 화이트, NT550XDA-K24AT, 펜티엄, 256GB, 8GB, WIN11 Pro #product2_detail.html 549000\n",
      "노트북 레노버 아이디어패드 슬림 1 15AMN7 15.6, 256GB, Free DOS, 82VG002EKR, 라이젠3, Cloud Grey (82VG), 8GB #product3_detail.html 529000\n",
      "노트북 레노버 V15 G4 AMN 15.6, Arctic Grey, 라이젠3, 256GB, 8GB, WIN11 Home, 82YU0009KR #product4_detail.html 624000\n",
      "노트북 LG 울트라PC 엣지 16, 차콜 그레이, 라이젠5, 256GB, 16GB, WIN11 Home, 16U70R-GA56K #product5_detail.html 1135000\n",
      "노트북 베이직스 베이직북 14 3세대, BB1422SS, 256GB, White, WIN11 Pro, 셀러론, 8GB #product6_detail.html 398000\n",
      "노트북 레노버 아이디어패드 슬림 5i 14IRL 14, Cloud Grey, 코어i5, 512GB, 16GB, Free DOS, 82XD002XKR #product7_detail.html 899000\n",
      "노트북 레노버 아이디어패드 슬림 5 16IRL 16, Cloud Grey, 512GB, 16GB, Free DOS, 82XF001RKR #product8_detail.html 929000\n",
      "노트북 에이서 스위프트 GO 16 OLED, 스틸 그레이, 코어i5, 512GB, 16GB, Free DOS, SFG16-71-51BY #product9_detail.html 1008000\n",
      "노트북 삼성전자 갤럭시북 2 15.6, 500GB, 실버, NT550XED-K78AS, 코어i7, 16GB, WIN11 Home #product10_detail.html 1149000\n",
      "데스크탑 한성컴퓨터 데스크탑 화이트 TFG MX4A500 (라이젠5-5600G WIN미포함 RAM 16GB NVMe 500GB), 기본형 #product11_detail.html 499000\n",
      "데스크탑 컴집 게이밍 조립식 컴퓨터 본체 배틀그라운드 디아블로4 롤 오버워치2 전문가용 건축설계 오토캐드 조립 PC, 게임용1번 #product12_detail.html 699000\n",
      "데스크탑 HP VICTUS 게이밍 데스크탑 TG02-1000KL (i5-13400F FreeDos RAM 16GB NVMe 512GB RTX3060 Ti), 기본형 #product13_detail.html 1199000\n",
      "데스크탑 델 인스피론 3020 S 슬림 데스크탑 포그 블루 DN3020S-WH02KR (i5-13400 WIN11 Home NVMe 512GB DDR4 8GB), 기본형 #product14_detail.html 719000\n",
      "데스크탑 삼성전자 컴퓨터 i7-8700 T8A 정품 윈도우11 Pro 탑재 사무용 데스크탑 PC 본체, 기본스펙, 삼성 T8A i7-8700+8GB+500GB #product15_detail.html 416000\n",
      "데스크탑 삼성전자 사무용 게임용 리퍼 중고컴퓨터 i3 i5 i7 GTX1060 무상A/S 1년 새상품SSD, 7번) i5-7세대-미들[게임용 조립] #product16_detail.html 436000\n",
      "데스크탑 삼성전자 삼성 DM500SFZ-AD5A 최신 13세대 CPU-i5 데스크탑 슬림형 PC본체 사무용 컴퓨터 인터넷강의 재택근무 업무용, 블랙 #product17_detail.html 889000\n",
      "데스크탑 HP S01-PF3000KL-WIN11 13세대\n",
      "i5-13400_(NVMe512GB_16GB)HP컴퓨터/슬림PC/사무용PC/HH #product18_detail.html 799000\n",
      "데스크탑 삼성 컴퓨터 본체 조립PC 모니터포함 풀세트 사무용 게이밍 데스크탑 윈도우10, 본체만, 10. 라이젠5600/32G/500/4060 #product19_detail.html 1099000\n",
      "데스크탑 컴집 게이밍 조립식 컴퓨터 본체 배틀그라운드 디아블로4 롤 오버워치2 전문가용 건축설계 오토캐드 조립 PC, 게임용11번 #product20_detail.html 899000\n",
      "휴대폰 삼성전자 갤럭시 A34 자급제, 어썸 그라파이트, 128GB #product21_detail.html 408400\n",
      "휴대폰 삼성전자 갤럭시 A34 자급제, 어썸 바이올렛, 128GB #product22_detail.html 408400\n",
      "휴대폰 삼성전자 갤럭시 A34 자급제, 어썸 실버, 128GB #product23_detail.html 409510\n",
      "휴대폰 삼성전자 갤럭시 A24 자급제, 블랙, 128GB #product24_detail.html 319000\n",
      "휴대폰 삼성전자 갤럭시 S23 자급제, 라벤더, 256GB #product25_detail.html 952450\n",
      "휴대폰 삼성전자 갤럭시 S23 자급제, 크림, 256GB #product26_detail.html 1004850\n",
      "휴대폰 삼성전자 갤럭시 A23 공기계 128GB, 블루, A급 #product27_detail.html 199000\n",
      "휴대폰 삼성전자 갤럭시 Z 플립5 5G 자급제, 크림, 512GB #product28_detail.html 1216050\n",
      "휴대폰 삼성전자 갤럭시 S23 5G 256GB 제휴카드 새제품 미개봉 미개통, 그린 #product29_detail.html 147000\n",
      "휴대폰 삼성전자 갤럭시 S23 FE 자급제 SM-S711N, 크림, 256GB #product30_detail.html 719900\n",
      "모니터 주연테크 54.6cm FHD LED 모니터 100Hz, V22FX(일반) #product31_detail.html 89000\n",
      "모니터 LG전자 60.4cm FHD 모니터, 24MQ400C #product32_detail.html 145000\n",
      "모니터 KOORUI 60.45cm FHD 게이밍 모니터 리얼 165Hz 1ms MPRT+프리싱크/G-sync 지원 24E4 블랙 #product33_detail.html 85900\n",
      "모니터 LG전자 68.6cm FHD 모니터, 27MQ400C #product34_detail.html 169750\n",
      "모니터 KOORUI 60.45cm FHD Fast IPS 리얼 165Hz 1ms(gtg) 게이밍 모니터 24E3 블랙 [프리싱크/G-sync 지원] #product35_detail.html 139000\n"
     ]
    }
   ],
   "source": [
    "import requests\n",
    "from bs4 import BeautifulSoup\n",
    "\n",
    "for i in range(1,5):\n",
    "    response = requests.get(f\"https://startcoding.pythonanywhere.com/basic?page={i}\")\n",
    "    html = response.text\n",
    "    soup = BeautifulSoup(html, \"html.parser\")\n",
    "    items = soup.select(\".product\")\n",
    "    for item in items:\n",
    "        category = item.select_one(\".product-category\").text\n",
    "        name = item.select_one(\".product-name\").text\n",
    "        link = item.select_one(\".product-name > a\").attrs['href']\n",
    "        #price = item.select_one(\".product-price\").text.strip().replace(\",\",'').replace('원','')\n",
    "        price = item.select_one(\".product-price\").text.split('원')[0].replace(\",\",'')\n",
    "\n",
    "        print(category, name, link, price) "
   ]
  },
  {
   "cell_type": "markdown",
   "id": "6c2da75a",
   "metadata": {},
   "source": [
    "[크롤링] 파이썬으로 간단하게 크롤링하기6. (데이터 엑셀에 저장)\n",
    " - pandas : 데이터분석 라이브러리\n",
    " - openpyxl : 엑셀 자동화 라이브러리\n",
    "\n",
    "<라이브러리 설치 방법>\n",
    "pip install pandas\n",
    "pip install openpyxl"
   ]
  },
  {
   "cell_type": "code",
   "execution_count": 32,
   "id": "6abd368b",
   "metadata": {},
   "outputs": [
    {
     "name": "stdout",
     "output_type": "stream",
     "text": [
      "Collecting pandas\n",
      "  Downloading pandas-2.2.3-cp313-cp313-win_amd64.whl.metadata (19 kB)\n",
      "Collecting numpy>=1.26.0 (from pandas)\n",
      "  Downloading numpy-2.2.4-cp313-cp313-win_amd64.whl.metadata (60 kB)\n",
      "Requirement already satisfied: python-dateutil>=2.8.2 in c:\\users\\yis11\\appdata\\roaming\\python\\python313\\site-packages (from pandas) (2.9.0.post0)\n",
      "Collecting pytz>=2020.1 (from pandas)\n",
      "  Using cached pytz-2025.2-py2.py3-none-any.whl.metadata (22 kB)\n",
      "Collecting tzdata>=2022.7 (from pandas)\n",
      "  Using cached tzdata-2025.2-py2.py3-none-any.whl.metadata (1.4 kB)\n",
      "Requirement already satisfied: six>=1.5 in c:\\users\\yis11\\appdata\\roaming\\python\\python313\\site-packages (from python-dateutil>=2.8.2->pandas) (1.17.0)\n",
      "Downloading pandas-2.2.3-cp313-cp313-win_amd64.whl (11.5 MB)\n",
      "   ---------------------------------------- 0.0/11.5 MB ? eta -:--:--\n",
      "   -- ------------------------------------- 0.8/11.5 MB 3.8 MB/s eta 0:00:03\n",
      "   ---- ----------------------------------- 1.3/11.5 MB 3.4 MB/s eta 0:00:04\n",
      "   ------- -------------------------------- 2.1/11.5 MB 3.2 MB/s eta 0:00:03\n",
      "   --------- ------------------------------ 2.6/11.5 MB 3.0 MB/s eta 0:00:03\n",
      "   ---------- ----------------------------- 3.1/11.5 MB 2.9 MB/s eta 0:00:03\n",
      "   ------------ --------------------------- 3.7/11.5 MB 2.9 MB/s eta 0:00:03\n",
      "   --------------- ------------------------ 4.5/11.5 MB 2.9 MB/s eta 0:00:03\n",
      "   ----------------- ---------------------- 5.0/11.5 MB 3.0 MB/s eta 0:00:03\n",
      "   -------------------- ------------------- 5.8/11.5 MB 3.0 MB/s eta 0:00:02\n",
      "   ---------------------- ----------------- 6.6/11.5 MB 3.1 MB/s eta 0:00:02\n",
      "   ------------------------- -------------- 7.3/11.5 MB 3.1 MB/s eta 0:00:02\n",
      "   --------------------------- ------------ 7.9/11.5 MB 3.1 MB/s eta 0:00:02\n",
      "   ------------------------------ --------- 8.7/11.5 MB 3.1 MB/s eta 0:00:01\n",
      "   ------------------------------- -------- 9.2/11.5 MB 3.1 MB/s eta 0:00:01\n",
      "   ---------------------------------- ----- 10.0/11.5 MB 3.2 MB/s eta 0:00:01\n",
      "   ------------------------------------- -- 10.7/11.5 MB 3.2 MB/s eta 0:00:01\n",
      "   ---------------------------------------- 11.5/11.5 MB 3.2 MB/s eta 0:00:00\n",
      "Downloading numpy-2.2.4-cp313-cp313-win_amd64.whl (12.6 MB)\n",
      "   ---------------------------------------- 0.0/12.6 MB ? eta -:--:--\n",
      "   -- ------------------------------------- 0.8/12.6 MB 4.5 MB/s eta 0:00:03\n",
      "   ---- ----------------------------------- 1.6/12.6 MB 3.9 MB/s eta 0:00:03\n",
      "   ------- -------------------------------- 2.4/12.6 MB 3.7 MB/s eta 0:00:03\n",
      "   --------- ------------------------------ 2.9/12.6 MB 3.6 MB/s eta 0:00:03\n",
      "   ----------- ---------------------------- 3.7/12.6 MB 3.6 MB/s eta 0:00:03\n",
      "   -------------- ------------------------- 4.5/12.6 MB 3.5 MB/s eta 0:00:03\n",
      "   ---------------- ----------------------- 5.2/12.6 MB 3.5 MB/s eta 0:00:03\n",
      "   ------------------- -------------------- 6.0/12.6 MB 3.6 MB/s eta 0:00:02\n",
      "   --------------------- ------------------ 6.8/12.6 MB 3.6 MB/s eta 0:00:02\n",
      "   ------------------------ --------------- 7.6/12.6 MB 3.6 MB/s eta 0:00:02\n",
      "   --------------------------- ------------ 8.7/12.6 MB 3.7 MB/s eta 0:00:02\n",
      "   ----------------------------- ---------- 9.4/12.6 MB 3.7 MB/s eta 0:00:01\n",
      "   -------------------------------- ------- 10.2/12.6 MB 3.7 MB/s eta 0:00:01\n",
      "   ---------------------------------- ----- 11.0/12.6 MB 3.7 MB/s eta 0:00:01\n",
      "   -------------------------------------- - 12.1/12.6 MB 3.8 MB/s eta 0:00:01\n",
      "   ---------------------------------------- 12.6/12.6 MB 3.8 MB/s eta 0:00:00\n",
      "Using cached pytz-2025.2-py2.py3-none-any.whl (509 kB)\n",
      "Using cached tzdata-2025.2-py2.py3-none-any.whl (347 kB)\n",
      "Installing collected packages: pytz, tzdata, numpy, pandas\n",
      "Successfully installed numpy-2.2.4 pandas-2.2.3 pytz-2025.2 tzdata-2025.2\n",
      "Note: you may need to restart the kernel to use updated packages.\n"
     ]
    }
   ],
   "source": [
    "pip install pandas"
   ]
  },
  {
   "cell_type": "code",
   "execution_count": 33,
   "id": "55775453",
   "metadata": {},
   "outputs": [
    {
     "name": "stdout",
     "output_type": "stream",
     "text": [
      "Collecting openpyxl\n",
      "  Downloading openpyxl-3.1.5-py2.py3-none-any.whl.metadata (2.5 kB)\n",
      "Collecting et-xmlfile (from openpyxl)\n",
      "  Downloading et_xmlfile-2.0.0-py3-none-any.whl.metadata (2.7 kB)\n",
      "Downloading openpyxl-3.1.5-py2.py3-none-any.whl (250 kB)\n",
      "Downloading et_xmlfile-2.0.0-py3-none-any.whl (18 kB)\n",
      "Installing collected packages: et-xmlfile, openpyxl\n",
      "Successfully installed et-xmlfile-2.0.0 openpyxl-3.1.5\n",
      "Note: you may need to restart the kernel to use updated packages.\n"
     ]
    }
   ],
   "source": [
    "pip install openpyxl"
   ]
  },
  {
   "cell_type": "code",
   "execution_count": null,
   "id": "6177fb50",
   "metadata": {},
   "outputs": [
    {
     "name": "stdout",
     "output_type": "stream",
     "text": [
      "노트북 에이서 스위프트 GO 16 OLED, 스틸 그레이, 코어i7, 512GB, 16GB, WIN11 Home, SFG16-71-77FT #product1_detail.html 1419000\n",
      "노트북 삼성전자 노트북 플러스2 15.6, 퓨어 화이트, NT550XDA-K24AT, 펜티엄, 256GB, 8GB, WIN11 Pro #product2_detail.html 549000\n",
      "노트북 레노버 아이디어패드 슬림 1 15AMN7 15.6, 256GB, Free DOS, 82VG002EKR, 라이젠3, Cloud Grey (82VG), 8GB #product3_detail.html 529000\n",
      "노트북 레노버 V15 G4 AMN 15.6, Arctic Grey, 라이젠3, 256GB, 8GB, WIN11 Home, 82YU0009KR #product4_detail.html 624000\n",
      "노트북 LG 울트라PC 엣지 16, 차콜 그레이, 라이젠5, 256GB, 16GB, WIN11 Home, 16U70R-GA56K #product5_detail.html 1135000\n",
      "노트북 베이직스 베이직북 14 3세대, BB1422SS, 256GB, White, WIN11 Pro, 셀러론, 8GB #product6_detail.html 398000\n",
      "노트북 레노버 아이디어패드 슬림 5i 14IRL 14, Cloud Grey, 코어i5, 512GB, 16GB, Free DOS, 82XD002XKR #product7_detail.html 899000\n",
      "노트북 레노버 아이디어패드 슬림 5 16IRL 16, Cloud Grey, 512GB, 16GB, Free DOS, 82XF001RKR #product8_detail.html 929000\n",
      "노트북 에이서 스위프트 GO 16 OLED, 스틸 그레이, 코어i5, 512GB, 16GB, Free DOS, SFG16-71-51BY #product9_detail.html 1008000\n",
      "노트북 삼성전자 갤럭시북 2 15.6, 500GB, 실버, NT550XED-K78AS, 코어i7, 16GB, WIN11 Home #product10_detail.html 1149000\n",
      "데스크탑 한성컴퓨터 데스크탑 화이트 TFG MX4A500 (라이젠5-5600G WIN미포함 RAM 16GB NVMe 500GB), 기본형 #product11_detail.html 499000\n",
      "데스크탑 컴집 게이밍 조립식 컴퓨터 본체 배틀그라운드 디아블로4 롤 오버워치2 전문가용 건축설계 오토캐드 조립 PC, 게임용1번 #product12_detail.html 699000\n",
      "데스크탑 HP VICTUS 게이밍 데스크탑 TG02-1000KL (i5-13400F FreeDos RAM 16GB NVMe 512GB RTX3060 Ti), 기본형 #product13_detail.html 1199000\n",
      "데스크탑 델 인스피론 3020 S 슬림 데스크탑 포그 블루 DN3020S-WH02KR (i5-13400 WIN11 Home NVMe 512GB DDR4 8GB), 기본형 #product14_detail.html 719000\n",
      "데스크탑 삼성전자 컴퓨터 i7-8700 T8A 정품 윈도우11 Pro 탑재 사무용 데스크탑 PC 본체, 기본스펙, 삼성 T8A i7-8700+8GB+500GB #product15_detail.html 416000\n",
      "데스크탑 삼성전자 사무용 게임용 리퍼 중고컴퓨터 i3 i5 i7 GTX1060 무상A/S 1년 새상품SSD, 7번) i5-7세대-미들[게임용 조립] #product16_detail.html 436000\n",
      "데스크탑 삼성전자 삼성 DM500SFZ-AD5A 최신 13세대 CPU-i5 데스크탑 슬림형 PC본체 사무용 컴퓨터 인터넷강의 재택근무 업무용, 블랙 #product17_detail.html 889000\n",
      "데스크탑 HP S01-PF3000KL-WIN11 13세대\n",
      "i5-13400_(NVMe512GB_16GB)HP컴퓨터/슬림PC/사무용PC/HH #product18_detail.html 799000\n",
      "데스크탑 삼성 컴퓨터 본체 조립PC 모니터포함 풀세트 사무용 게이밍 데스크탑 윈도우10, 본체만, 10. 라이젠5600/32G/500/4060 #product19_detail.html 1099000\n",
      "데스크탑 컴집 게이밍 조립식 컴퓨터 본체 배틀그라운드 디아블로4 롤 오버워치2 전문가용 건축설계 오토캐드 조립 PC, 게임용11번 #product20_detail.html 899000\n",
      "휴대폰 삼성전자 갤럭시 A34 자급제, 어썸 그라파이트, 128GB #product21_detail.html 408400\n",
      "휴대폰 삼성전자 갤럭시 A34 자급제, 어썸 바이올렛, 128GB #product22_detail.html 408400\n",
      "휴대폰 삼성전자 갤럭시 A34 자급제, 어썸 실버, 128GB #product23_detail.html 409510\n",
      "휴대폰 삼성전자 갤럭시 A24 자급제, 블랙, 128GB #product24_detail.html 319000\n",
      "휴대폰 삼성전자 갤럭시 S23 자급제, 라벤더, 256GB #product25_detail.html 952450\n",
      "휴대폰 삼성전자 갤럭시 S23 자급제, 크림, 256GB #product26_detail.html 1004850\n",
      "휴대폰 삼성전자 갤럭시 A23 공기계 128GB, 블루, A급 #product27_detail.html 199000\n",
      "휴대폰 삼성전자 갤럭시 Z 플립5 5G 자급제, 크림, 512GB #product28_detail.html 1216050\n",
      "휴대폰 삼성전자 갤럭시 S23 5G 256GB 제휴카드 새제품 미개봉 미개통, 그린 #product29_detail.html 147000\n",
      "휴대폰 삼성전자 갤럭시 S23 FE 자급제 SM-S711N, 크림, 256GB #product30_detail.html 719900\n",
      "모니터 주연테크 54.6cm FHD LED 모니터 100Hz, V22FX(일반) #product31_detail.html 89000\n",
      "모니터 LG전자 60.4cm FHD 모니터, 24MQ400C #product32_detail.html 145000\n",
      "모니터 KOORUI 60.45cm FHD 게이밍 모니터 리얼 165Hz 1ms MPRT+프리싱크/G-sync 지원 24E4 블랙 #product33_detail.html 85900\n",
      "모니터 LG전자 68.6cm FHD 모니터, 27MQ400C #product34_detail.html 169750\n",
      "모니터 KOORUI 60.45cm FHD Fast IPS 리얼 165Hz 1ms(gtg) 게이밍 모니터 24E3 블랙 [프리싱크/G-sync 지원] #product35_detail.html 139000\n"
     ]
    }
   ],
   "source": [
    "import requests\n",
    "from bs4 import BeautifulSoup\n",
    "import pandas as pd\n",
    "\n",
    "data = []\n",
    "\n",
    "for i in range(1,5):\n",
    "    response = requests.get(f\"https://startcoding.pythonanywhere.com/basic?page={i}\")\n",
    "    html = response.text\n",
    "    soup = BeautifulSoup(html, \"html.parser\")\n",
    "    items = soup.select(\".product\")\n",
    "    for item in items:\n",
    "        category = item.select_one(\".product-category\").text\n",
    "        name = item.select_one(\".product-name\").text\n",
    "        link = item.select_one(\".product-name > a\").attrs['href']\n",
    "        #price = item.select_one(\".product-price\").text.strip().replace(\",\",'').replace('원','')\n",
    "        price = item.select_one(\".product-price\").text.split('원')[0].replace(\",\",'')\n",
    "\n",
    "        print(category, name, link, price) \n",
    "\n",
    "        data.append([category, name, link, price])\n",
    "\n",
    "# 데이터 프레임 만들기\n",
    "df = pd.DataFrame(data, columns=[\"카테고리\", \"상품명\", \"상세페이지링크\", \"가격\"])\n",
    "\n",
    "# 엑셀저장\n",
    "df.to_excel('result.xlsx')\n",
    "\n",
    "# 자동생성 인덱스 번호 제거\n",
    "#df.to_excel('result.xlsx', index=False)"
   ]
  },
  {
   "cell_type": "markdown",
   "id": "9ecf7800",
   "metadata": {},
   "source": [
    "[크롤링] 파이썬으로 간단하게 크롤링하기7. (기존 엑셀 파일 OR 새로운 시트에 저장하는 방법)"
   ]
  },
  {
   "cell_type": "code",
   "execution_count": null,
   "id": "54a9a383",
   "metadata": {},
   "outputs": [
    {
     "name": "stdout",
     "output_type": "stream",
     "text": [
      "노트북 에이서 스위프트 GO 16 OLED, 스틸 그레이, 코어i7, 512GB, 16GB, WIN11 Home, SFG16-71-77FT #product1_detail.html 1419000\n",
      "노트북 삼성전자 노트북 플러스2 15.6, 퓨어 화이트, NT550XDA-K24AT, 펜티엄, 256GB, 8GB, WIN11 Pro #product2_detail.html 549000\n",
      "노트북 레노버 아이디어패드 슬림 1 15AMN7 15.6, 256GB, Free DOS, 82VG002EKR, 라이젠3, Cloud Grey (82VG), 8GB #product3_detail.html 529000\n",
      "노트북 레노버 V15 G4 AMN 15.6, Arctic Grey, 라이젠3, 256GB, 8GB, WIN11 Home, 82YU0009KR #product4_detail.html 624000\n",
      "노트북 LG 울트라PC 엣지 16, 차콜 그레이, 라이젠5, 256GB, 16GB, WIN11 Home, 16U70R-GA56K #product5_detail.html 1135000\n",
      "노트북 베이직스 베이직북 14 3세대, BB1422SS, 256GB, White, WIN11 Pro, 셀러론, 8GB #product6_detail.html 398000\n",
      "노트북 레노버 아이디어패드 슬림 5i 14IRL 14, Cloud Grey, 코어i5, 512GB, 16GB, Free DOS, 82XD002XKR #product7_detail.html 899000\n",
      "노트북 레노버 아이디어패드 슬림 5 16IRL 16, Cloud Grey, 512GB, 16GB, Free DOS, 82XF001RKR #product8_detail.html 929000\n",
      "노트북 에이서 스위프트 GO 16 OLED, 스틸 그레이, 코어i5, 512GB, 16GB, Free DOS, SFG16-71-51BY #product9_detail.html 1008000\n",
      "노트북 삼성전자 갤럭시북 2 15.6, 500GB, 실버, NT550XED-K78AS, 코어i7, 16GB, WIN11 Home #product10_detail.html 1149000\n"
     ]
    }
   ],
   "source": [
    "# step 1 : 새로운 엑셀 파일에 저장하기\n",
    "import requests\n",
    "from bs4 import BeautifulSoup\n",
    "import pandas as pd\n",
    "\n",
    "data = []\n",
    "\n",
    "for i in range(1,2):\n",
    "    response = requests.get(f\"https://startcoding.pythonanywhere.com/basic?page={i}\")\n",
    "    html = response.text\n",
    "    soup = BeautifulSoup(html, \"html.parser\")\n",
    "    items = soup.select(\".product\")\n",
    "    for item in items:\n",
    "        category = item.select_one(\".product-category\").text\n",
    "        name = item.select_one(\".product-name\").text\n",
    "        link = item.select_one(\".product-name > a\").attrs['href']\n",
    "        #price = item.select_one(\".product-price\").text.strip().replace(\",\",'').replace('원','')\n",
    "        price = item.select_one(\".product-price\").text.split('원')[0].replace(\",\",'')\n",
    "\n",
    "        print(category, name, link, price) \n",
    "\n",
    "        data.append([category, name, link, price])\n",
    "\n",
    "# 데이터 프레임 만들기\n",
    "df = pd.DataFrame(data, columns=[\"카테고리\", \"상품명\", \"상세페이지링크\", \"가격\"])\n",
    "\n",
    "# 엑셀저장\n",
    "df.to_excel('result_sheet.xlsx', index=False)\n",
    "\n",
    "# 자동생성 인덱스 번호 제거\n",
    "#df.to_excel('result.xlsx', index=False)"
   ]
  },
  {
   "cell_type": "code",
   "execution_count": null,
   "id": "c4075195",
   "metadata": {},
   "outputs": [
    {
     "name": "stdout",
     "output_type": "stream",
     "text": [
      "데스크탑 한성컴퓨터 데스크탑 화이트 TFG MX4A500 (라이젠5-5600G WIN미포함 RAM 16GB NVMe 500GB), 기본형 #product11_detail.html 499000\n",
      "데스크탑 컴집 게이밍 조립식 컴퓨터 본체 배틀그라운드 디아블로4 롤 오버워치2 전문가용 건축설계 오토캐드 조립 PC, 게임용1번 #product12_detail.html 699000\n",
      "데스크탑 HP VICTUS 게이밍 데스크탑 TG02-1000KL (i5-13400F FreeDos RAM 16GB NVMe 512GB RTX3060 Ti), 기본형 #product13_detail.html 1199000\n",
      "데스크탑 델 인스피론 3020 S 슬림 데스크탑 포그 블루 DN3020S-WH02KR (i5-13400 WIN11 Home NVMe 512GB DDR4 8GB), 기본형 #product14_detail.html 719000\n",
      "데스크탑 삼성전자 컴퓨터 i7-8700 T8A 정품 윈도우11 Pro 탑재 사무용 데스크탑 PC 본체, 기본스펙, 삼성 T8A i7-8700+8GB+500GB #product15_detail.html 416000\n",
      "데스크탑 삼성전자 사무용 게임용 리퍼 중고컴퓨터 i3 i5 i7 GTX1060 무상A/S 1년 새상품SSD, 7번) i5-7세대-미들[게임용 조립] #product16_detail.html 436000\n",
      "데스크탑 삼성전자 삼성 DM500SFZ-AD5A 최신 13세대 CPU-i5 데스크탑 슬림형 PC본체 사무용 컴퓨터 인터넷강의 재택근무 업무용, 블랙 #product17_detail.html 889000\n",
      "데스크탑 HP S01-PF3000KL-WIN11 13세대\n",
      "i5-13400_(NVMe512GB_16GB)HP컴퓨터/슬림PC/사무용PC/HH #product18_detail.html 799000\n",
      "데스크탑 삼성 컴퓨터 본체 조립PC 모니터포함 풀세트 사무용 게이밍 데스크탑 윈도우10, 본체만, 10. 라이젠5600/32G/500/4060 #product19_detail.html 1099000\n",
      "데스크탑 컴집 게이밍 조립식 컴퓨터 본체 배틀그라운드 디아블로4 롤 오버워치2 전문가용 건축설계 오토캐드 조립 PC, 게임용11번 #product20_detail.html 899000\n"
     ]
    }
   ],
   "source": [
    "# step 2 : 기존 엑셀 파일에 추가해서 저장하기\n",
    "import requests\n",
    "from bs4 import BeautifulSoup\n",
    "import pandas as pd\n",
    "\n",
    "data = []\n",
    "\n",
    "for i in range(2,3):\n",
    "    response = requests.get(f\"https://startcoding.pythonanywhere.com/basic?page={i}\")\n",
    "    html = response.text\n",
    "    soup = BeautifulSoup(html, \"html.parser\")\n",
    "    items = soup.select(\".product\")\n",
    "    for item in items:\n",
    "        category = item.select_one(\".product-category\").text\n",
    "        name = item.select_one(\".product-name\").text\n",
    "        link = item.select_one(\".product-name > a\").attrs['href']\n",
    "        #price = item.select_one(\".product-price\").text.strip().replace(\",\",'').replace('원','')\n",
    "        price = item.select_one(\".product-price\").text.split('원')[0].replace(\",\",'')\n",
    "\n",
    "        print(category, name, link, price) \n",
    "\n",
    "        data.append([category, name, link, price])\n",
    "\n",
    "# 데이터 프레임 만들기\n",
    "df = pd.DataFrame(data, columns=[\"카테고리\", \"상품명\", \"상세페이지링크\", \"가격\"])\n",
    "\n",
    "# 기존 엑셀 파일 불러오기\n",
    "existing_df = pd.read_excel('result_sheet.xlsx')\n",
    "\n",
    "# 기존 데이터프레임에 새 데이터 추가\n",
    "# ignore_index 인덱스는 무시하고 합쳐라\n",
    "update_df = pd.concat([existing_df, df], ignore_index=True)\n",
    "\n",
    "\n",
    "# 엑셀저장\n",
    "update_df.to_excel('result_sheet.xlsx', index=False)\n",
    "\n",
    "# 자동생성 인덱스 번호 제거\n",
    "#df.to_excel('result.xlsx', index=False)"
   ]
  },
  {
   "cell_type": "code",
   "execution_count": null,
   "id": "46d8fafc",
   "metadata": {},
   "outputs": [
    {
     "name": "stdout",
     "output_type": "stream",
     "text": [
      "휴대폰 삼성전자 갤럭시 A34 자급제, 어썸 그라파이트, 128GB #product21_detail.html 408400\n",
      "휴대폰 삼성전자 갤럭시 A34 자급제, 어썸 바이올렛, 128GB #product22_detail.html 408400\n",
      "휴대폰 삼성전자 갤럭시 A34 자급제, 어썸 실버, 128GB #product23_detail.html 409510\n",
      "휴대폰 삼성전자 갤럭시 A24 자급제, 블랙, 128GB #product24_detail.html 319000\n",
      "휴대폰 삼성전자 갤럭시 S23 자급제, 라벤더, 256GB #product25_detail.html 952450\n",
      "휴대폰 삼성전자 갤럭시 S23 자급제, 크림, 256GB #product26_detail.html 1004850\n",
      "휴대폰 삼성전자 갤럭시 A23 공기계 128GB, 블루, A급 #product27_detail.html 199000\n",
      "휴대폰 삼성전자 갤럭시 Z 플립5 5G 자급제, 크림, 512GB #product28_detail.html 1216050\n",
      "휴대폰 삼성전자 갤럭시 S23 5G 256GB 제휴카드 새제품 미개봉 미개통, 그린 #product29_detail.html 147000\n",
      "휴대폰 삼성전자 갤럭시 S23 FE 자급제 SM-S711N, 크림, 256GB #product30_detail.html 719900\n"
     ]
    }
   ],
   "source": [
    "# step 3 : 새로운 시트에 저장하기\n",
    "import requests\n",
    "from bs4 import BeautifulSoup\n",
    "import pandas as pd\n",
    "\n",
    "data = []\n",
    "\n",
    "for i in range(3,4):\n",
    "    response = requests.get(f\"https://startcoding.pythonanywhere.com/basic?page={i}\")\n",
    "    html = response.text\n",
    "    soup = BeautifulSoup(html, \"html.parser\")\n",
    "    items = soup.select(\".product\")\n",
    "    for item in items:\n",
    "        category = item.select_one(\".product-category\").text\n",
    "        name = item.select_one(\".product-name\").text\n",
    "        link = item.select_one(\".product-name > a\").attrs['href']\n",
    "        #price = item.select_one(\".product-price\").text.strip().replace(\",\",'').replace('원','')\n",
    "        price = item.select_one(\".product-price\").text.split('원')[0].replace(\",\",'')\n",
    "\n",
    "        print(category, name, link, price) \n",
    "\n",
    "        data.append([category, name, link, price])\n",
    "\n",
    "# 데이터 프레임 만들기\n",
    "df = pd.DataFrame(data, columns=[\"카테고리\", \"상품명\", \"상세페이지링크\", \"가격\"])\n",
    "\n",
    "# 'ExcelWriter' <- 판다스에서 특정 라이브러리의 기능을 가져다 쓰기 위해 사용하는 녀석\n",
    "# 'with' <= 파일을 열었을때 파일객체를 자동으로 관리해주는 구문 (ex 파일을 열고나서 닫아야하는데 with가 자동으로 해줌)\n",
    "# 'mode='a' <= 기존 엑셀파일을 추가모드로 연다\n",
    "# 'engine='openpyxl' <= openpyxl라이브러리의 도움을 받아서 ExcelWriter을 만들겠다는 뭐 그런 뜻\n",
    "\n",
    "# 'ExcelWriter' 를 사용하여 기존 엑셀 파일 열기\n",
    "with pd.ExcelWriter('result_sheet.xlsx', mode='a', engine='openpyxl') as writer:\n",
    "    #새로운 시트에 데이터 저장\n",
    "    df.to_excel(writer, sheet_name='휴대폰', index=False)\n",
    "\n"
   ]
  },
  {
   "cell_type": "markdown",
   "id": "77038dbd",
   "metadata": {},
   "source": [
    "[크롤링] 파이썬으로 간단하게 크롤링하기 보너스. (문자열 처리 함수)\n",
    "\n",
    "사용 많이 하는 5가지 문자열 처리 함수 \n",
    "\n",
    "1. 문자열 공백 제거 - strip()\n",
    "2. 문자열 교체 - replace()\n",
    "3. 문자열 자르기 - split()\n",
    "4. 문자열 개수 - count()\n",
    "5. 문자열 찾기 - find()\n",
    "​"
   ]
  }
 ],
 "metadata": {
  "kernelspec": {
   "display_name": "Python 3",
   "language": "python",
   "name": "python3"
  },
  "language_info": {
   "codemirror_mode": {
    "name": "ipython",
    "version": 3
   },
   "file_extension": ".py",
   "mimetype": "text/x-python",
   "name": "python",
   "nbconvert_exporter": "python",
   "pygments_lexer": "ipython3",
   "version": "3.13.3"
  }
 },
 "nbformat": 4,
 "nbformat_minor": 5
}
